{
 "cells": [
  {
   "cell_type": "markdown",
   "id": "d0fe35b5",
   "metadata": {},
   "source": [
    "需要import的lib都放在這~"
   ]
  },
  {
   "cell_type": "code",
   "execution_count": 1,
   "id": "7cafbd10",
   "metadata": {},
   "outputs": [],
   "source": [
    "# import library\n",
    "import pandas as pd\n",
    "import numpy as np\n",
    "import nltk\n",
    "from sklearn.datasets import fetch_20newsgroups\n",
    "from sklearn.feature_extraction.text import CountVectorizer\n",
    "import plotly as py\n",
    "import math\n",
    "import matplotlib as plt\n",
    "%matplotlib inline"
   ]
  },
  {
   "cell_type": "markdown",
   "id": "ffd8106c",
   "metadata": {},
   "source": [
    "Helper of data_mining from TA"
   ]
  },
  {
   "cell_type": "code",
   "execution_count": 2,
   "id": "9d73dea5",
   "metadata": {},
   "outputs": [],
   "source": [
    "\"\"\"Helper of data_mining from TA\n",
    "Helper functions for data mining lab session 2018 Fall Semester\n",
    "Author: Elvis Saravia\n",
    "Email: ellfae@gmail.com\n",
    "\"\"\"\n",
    "\n",
    "def format_rows(docs):\n",
    "    \"\"\" format the text field and strip special characters \"\"\"\n",
    "    D = []\n",
    "    for d in docs.data:\n",
    "        temp_d = \" \".join(d.split(\"\\n\")).strip('\\n\\t')\n",
    "        D.append([temp_d])\n",
    "    return D\n",
    "\n",
    "def format_labels(target, docs):\n",
    "    \"\"\" format the labels \"\"\"\n",
    "    return docs.target_names[target]\n",
    "\n",
    "def check_missing_values(row):\n",
    "    \"\"\" functions that check and verifies if there are missing values in dataframe \"\"\"\n",
    "    counter = 0\n",
    "    for element in row:\n",
    "        if element == True:\n",
    "            counter+=1\n",
    "    return (\"The amount of missing records is: \", counter)\n",
    "\n",
    "def tokenize_text(text, remove_stopwords=False):\n",
    "    \"\"\"\n",
    "    Tokenize text using the nltk library\n",
    "    \"\"\"\n",
    "    tokens = []\n",
    "    for d in nltk.sent_tokenize(text, language='english'):\n",
    "        for word in nltk.word_tokenize(d, language='english'):\n",
    "            # filters here\n",
    "            tokens.append(word)\n",
    "    return tokens"
   ]
  },
  {
   "cell_type": "markdown",
   "id": "ce7943a6",
   "metadata": {},
   "source": [
    "準備我們要使用的dataset"
   ]
  },
  {
   "cell_type": "code",
   "execution_count": 3,
   "id": "879acf71",
   "metadata": {},
   "outputs": [],
   "source": [
    "# prepare dataset\n",
    "# 這個dataset 有20個種類,而我們這次練習先拿出4類來用就好\n",
    "categories = ['alt.atheism', 'soc.religion.christian', 'comp.graphics', 'sci.med']\n",
    "twenty_train = fetch_20newsgroups(subset='train', categories=categories, shuffle=True, random_state=42)"
   ]
  },
  {
   "cell_type": "code",
   "execution_count": null,
   "id": "ddc90517",
   "metadata": {},
   "outputs": [],
   "source": [
    "# 用這個指令可以看到twenty_train有甚麼attribute\n",
    "dir(twenty_train)"
   ]
  },
  {
   "cell_type": "markdown",
   "id": "ff19d064",
   "metadata": {},
   "source": [
    "用下面的cell來檢查資料是否已經下載好了"
   ]
  },
  {
   "cell_type": "code",
   "execution_count": 4,
   "id": "5c46806e",
   "metadata": {},
   "outputs": [
    {
     "data": {
      "text/plain": [
       "'From: sd345@city.ac.uk (Michael Collier)\\nSubject: Converting images to HP LaserJet III?\\nNntp-Posting-Host: hampton\\nOrganization: The City University\\nLines: 14\\n\\nDoes anyone know of a good way (standard PC application/PD utility) to\\nconvert tif/img/tga files into LaserJet III format.  We would also like to\\ndo the same, converting to HPGL (HP plotter) files.\\n\\nPlease email any response.\\n\\nIs this the correct group?\\n\\nThanks in advance.  Michael.\\n-- \\nMichael Collier (Programmer)                 The Computer Unit,\\nEmail: M.P.Collier@uk.ac.city                The City University,\\nTel: 071 477-8000 x3769                      London,\\nFax: 071 477-8565                            EC1V 0HB.\\n'"
      ]
     },
     "execution_count": 4,
     "metadata": {},
     "output_type": "execute_result"
    }
   ],
   "source": [
    "twenty_train.data[0]"
   ]
  },
  {
   "cell_type": "markdown",
   "id": "4fcd6443",
   "metadata": {},
   "source": [
    "接著我們可以列出我們使用到了哪些種類"
   ]
  },
  {
   "cell_type": "code",
   "execution_count": null,
   "id": "5d1ce630",
   "metadata": {},
   "outputs": [],
   "source": [
    "twenty_train.target_names"
   ]
  },
  {
   "cell_type": "markdown",
   "id": "46fced11",
   "metadata": {},
   "source": [
    "接著列出目前我們總共有幾筆資料"
   ]
  },
  {
   "cell_type": "code",
   "execution_count": null,
   "id": "a363710e",
   "metadata": {},
   "outputs": [],
   "source": [
    "len(twenty_train.data)"
   ]
  },
  {
   "cell_type": "markdown",
   "id": "77b8fd74",
   "metadata": {},
   "source": [
    "接著是一個簡單的處裡我們資料的方法"
   ]
  },
  {
   "cell_type": "code",
   "execution_count": null,
   "id": "c7f93ccf",
   "metadata": {},
   "outputs": [],
   "source": [
    "# print(\"\\n\".join(twenty_train.data[0].split(\"\\n\")))\n",
    "print(twenty_train.data[0].split(\"\\n\"))"
   ]
  },
  {
   "cell_type": "markdown",
   "id": "f6ea4065",
   "metadata": {},
   "source": [
    "列出當前資料的種類"
   ]
  },
  {
   "cell_type": "code",
   "execution_count": 14,
   "id": "642d9ef3",
   "metadata": {},
   "outputs": [
    {
     "name": "stdout",
     "output_type": "stream",
     "text": [
      "comp.graphics\n"
     ]
    }
   ],
   "source": [
    "print(twenty_train.target_names[twenty_train.target[0]])"
   ]
  },
  {
   "cell_type": "markdown",
   "id": "280a5917",
   "metadata": {},
   "source": [
    "取出某項資料他的target_id"
   ]
  },
  {
   "cell_type": "code",
   "execution_count": null,
   "id": "cf9e99a6",
   "metadata": {},
   "outputs": [],
   "source": [
    "print(twenty_train.target[0])"
   ]
  },
  {
   "cell_type": "markdown",
   "id": "ffb625c0",
   "metadata": {},
   "source": [
    "接著是一個常見的資料轉換法"
   ]
  },
  {
   "cell_type": "code",
   "execution_count": 23,
   "id": "1961b594",
   "metadata": {},
   "outputs": [],
   "source": [
    "import pandas as pd\n",
    "\n",
    "\n",
    "# construct dataframe from a list\n",
    "# 我們只有把資料當中的list提取出來之後做資料轉換\n",
    "X = pd.DataFrame.from_records(format_rows(twenty_train), columns= ['text'])\n"
   ]
  },
  {
   "cell_type": "markdown",
   "id": "922e764a",
   "metadata": {},
   "source": [
    "檢查轉換後的資料長度"
   ]
  },
  {
   "cell_type": "code",
   "execution_count": null,
   "id": "86aad6ae",
   "metadata": {},
   "outputs": [],
   "source": [
    "len(X)"
   ]
  },
  {
   "cell_type": "markdown",
   "id": "99e24659",
   "metadata": {},
   "source": [
    "從轉換後的變數中把資料提取出來"
   ]
  },
  {
   "cell_type": "code",
   "execution_count": null,
   "id": "eeec223c",
   "metadata": {},
   "outputs": [],
   "source": [
    "X[0:1]"
   ]
  },
  {
   "cell_type": "markdown",
   "id": "eb4c6c71",
   "metadata": {},
   "source": [
    "把原始資料當中的其他column也加入到這個轉換當中"
   ]
  },
  {
   "cell_type": "code",
   "execution_count": 30,
   "id": "a317fc51",
   "metadata": {},
   "outputs": [],
   "source": [
    "X['category'] = twenty_train.target"
   ]
  },
  {
   "cell_type": "code",
   "execution_count": null,
   "metadata": {},
   "outputs": [],
   "source": [
    "X[0:1]"
   ]
  },
  {
   "cell_type": "code",
   "execution_count": 32,
   "id": "3c221d50",
   "metadata": {},
   "outputs": [],
   "source": [
    "X['category_name'] = X.category.apply(lambda t: format_labels(t, twenty_train))\n",
    "## 這行code是我拿來確定t是甚麼用的\n",
    "## lambda t: format(t,twenty_train)的意思是 t是 input, format_labels(t,twenty_train))是output\n",
    "## 而加上了apply之後，就是把X.category當作 function 的 input\n",
    "## 用下面的code 可以確認t是甚麼\n",
    "# X.category.apply(lambda t: (print(t),format_labels(t, twenty_train)))\n",
    "# print(\"#\"*50)\n",
    "# X.category\n"
   ]
  },
  {
   "cell_type": "code",
   "execution_count": null,
   "id": "82700912",
   "metadata": {},
   "outputs": [],
   "source": [
    "X[0:1]"
   ]
  },
  {
   "cell_type": "markdown",
   "id": "3e2d9f80",
   "metadata": {},
   "source": [
    "提取特定的column、row"
   ]
  },
  {
   "cell_type": "code",
   "execution_count": null,
   "id": "8c85d979",
   "metadata": {},
   "outputs": [],
   "source": [
    "X[:10][[\"text\",\"category_name\"]]\n"
   ]
  },
  {
   "cell_type": "code",
   "execution_count": null,
   "id": "bcb0d7dd",
   "metadata": {},
   "outputs": [],
   "source": [
    "X[:10][[\"text\"]]"
   ]
  },
  {
   "cell_type": "markdown",
   "id": "d38a1798",
   "metadata": {},
   "source": [
    "提取特定的category"
   ]
  },
  {
   "cell_type": "code",
   "execution_count": null,
   "id": "eebe4ded",
   "metadata": {},
   "outputs": [],
   "source": [
    "X[X['category_name'] == \"sci.med\"]"
   ]
  },
  {
   "cell_type": "markdown",
   "id": "805b3a34",
   "metadata": {},
   "source": [
    "檢查表格當中有沒有不含有資料的"
   ]
  },
  {
   "cell_type": "code",
   "execution_count": null,
   "id": "5da6d104",
   "metadata": {},
   "outputs": [],
   "source": [
    "# false 代表不是null，代表有資料\n",
    "X.isnull()"
   ]
  },
  {
   "cell_type": "code",
   "execution_count": null,
   "id": "e50193c7",
   "metadata": {},
   "outputs": [],
   "source": [
    "# 把X.isnull的結果作為x輸入到 check_missing_value裡面\n",
    "X.isnull().apply(lambda x: check_missing_values(x))"
   ]
  },
  {
   "cell_type": "markdown",
   "id": "7e0d15c7",
   "metadata": {},
   "source": [
    "接著是如何自己新增資料到X"
   ]
  },
  {
   "cell_type": "code",
   "execution_count": null,
   "id": "c20cc098",
   "metadata": {},
   "outputs": [],
   "source": [
    "dummy_series = pd.Series([\"dummy_record\", 1], index=[\"text\", \"category\"])\n",
    "dummy_series.to_frame()"
   ]
  },
  {
   "cell_type": "markdown",
   "id": "67fca804",
   "metadata": {},
   "source": [
    "result_with_series = pd.concat([X, dummy_series.to_frame().T], ignore_index=True)\n",
    "# check if the records was commited into result\n",
    "len(result_with_series)\n",
    "\n"
   ]
  },
  {
   "cell_type": "code",
   "execution_count": null,
   "id": "724c75f9",
   "metadata": {},
   "outputs": [],
   "source": [
    "#我們新增的資料沒有category_name，所以理論上這次檢查, null應該要多一個\n",
    "X.isnull().apply(lambda x: check_missing_values(x))\n",
    "# 刪除有null val的資料\n",
    "X.dropna(inplace=True)"
   ]
  },
  {
   "cell_type": "markdown",
   "id": "1046d5d7",
   "metadata": {},
   "source": [
    "接著是檢查有沒有重複的資料"
   ]
  },
  {
   "cell_type": "code",
   "execution_count": null,
   "id": "7d91c41e",
   "metadata": {},
   "outputs": [],
   "source": [
    "X.duplicated()"
   ]
  },
  {
   "cell_type": "code",
   "execution_count": 65,
   "id": "2af16339",
   "metadata": {},
   "outputs": [
    {
     "data": {
      "text/plain": [
       "0"
      ]
     },
     "execution_count": 65,
     "metadata": {},
     "output_type": "execute_result"
    }
   ],
   "source": [
    "# 把X.duplicated()的回傳值都加起來\n",
    "# 若沒有重複會回傳false(0) \n",
    "# 所以如果sum不是0 代表有資料重複\n",
    "sum(X.duplicated())"
   ]
  },
  {
   "cell_type": "markdown",
   "id": "137146fb",
   "metadata": {},
   "source": [
    "手動加個duplicated data進去試試看"
   ]
  },
  {
   "cell_type": "code",
   "execution_count": 70,
   "id": "f2c533ea",
   "metadata": {},
   "outputs": [
    {
     "data": {
      "text/plain": [
       "2259"
      ]
     },
     "execution_count": 70,
     "metadata": {},
     "output_type": "execute_result"
    }
   ],
   "source": [
    "dummy_duplicate_dict = [{\n",
    "                             'text': 'dummy record',\n",
    "                             'category': 1, \n",
    "                             'category_name': \"dummy category\"\n",
    "                        },\n",
    "                        {\n",
    "                             'text': 'dummy record',\n",
    "                             'category': 1, \n",
    "                             'category_name': \"dummy category\"\n",
    "                        }]\n",
    "\n",
    "X = pd.concat([X, pd.DataFrame(dummy_duplicate_dict)], ignore_index=True)\n",
    "len(X)\n"
   ]
  },
  {
   "cell_type": "code",
   "execution_count": 71,
   "id": "cf1166a8",
   "metadata": {},
   "outputs": [
    {
     "data": {
      "text/plain": [
       "1"
      ]
     },
     "execution_count": 71,
     "metadata": {},
     "output_type": "execute_result"
    }
   ],
   "source": [
    "sum(X.duplicated())"
   ]
  },
  {
   "cell_type": "markdown",
   "id": "67c6c682",
   "metadata": {},
   "source": [
    "接著就是如何處理重複的部分(刪掉)"
   ]
  },
  {
   "cell_type": "code",
   "execution_count": null,
   "id": "e37d117a",
   "metadata": {},
   "outputs": [],
   "source": [
    "X.drop_duplicates(keep=False, inplace=True) # inplace applies changes directly on our dataframe\n",
    "sum(X.duplicated('text'))\n",
    "len(X)\n"
   ]
  },
  {
   "cell_type": "markdown",
   "id": "8b02d087",
   "metadata": {},
   "source": [
    "接著是資料的採樣"
   ]
  },
  {
   "cell_type": "code",
   "execution_count": 81,
   "id": "4857cd4d",
   "metadata": {},
   "outputs": [
    {
     "data": {
      "text/plain": [
       "1000"
      ]
     },
     "execution_count": 81,
     "metadata": {},
     "output_type": "execute_result"
    }
   ],
   "source": [
    "X_sample = X.sample(n=1000) #random state\n",
    "len(X_sample)"
   ]
  },
  {
   "cell_type": "code",
   "execution_count": null,
   "id": "98b84cad",
   "metadata": {},
   "outputs": [],
   "source": [
    "X_sample[0:4]"
   ]
  },
  {
   "cell_type": "markdown",
   "id": "3bd106ee",
   "metadata": {},
   "source": [
    "接著終於到資料分析的部分了"
   ]
  },
  {
   "cell_type": "code",
   "execution_count": null,
   "id": "aedf4946",
   "metadata": {},
   "outputs": [],
   "source": [
    "import matplotlib.pyplot as plt\n",
    "%matplotlib inline"
   ]
  },
  {
   "cell_type": "code",
   "execution_count": null,
   "id": "4bfd2ed2",
   "metadata": {},
   "outputs": [],
   "source": [
    "categories"
   ]
  },
  {
   "cell_type": "code",
   "execution_count": 82,
   "id": "614d1151",
   "metadata": {},
   "outputs": [
    {
     "name": "stdout",
     "output_type": "stream",
     "text": [
      "soc.religion.christian    599\n",
      "sci.med                   594\n",
      "comp.graphics             584\n",
      "alt.atheism               480\n",
      "Name: category_name, dtype: int64\n"
     ]
    }
   ],
   "source": [
    "# 統計每個種類有多少數量\n",
    "print(X.category_name.value_counts())"
   ]
  },
  {
   "cell_type": "code",
   "execution_count": null,
   "id": "372e4569",
   "metadata": {},
   "outputs": [],
   "source": [
    "# plot barchart for X\n",
    "X.category_name.value_counts().plot(kind = 'bar',\n",
    "                                    title = 'Category distribution',\n",
    "                                    ylim = [0, 650],        \n",
    "                                    rot = 0, fontsize = 11, figsize = (8,3))\n",
    "\n",
    "# 可以看我們plt能畫出哪幾種圖\n",
    "# print(plt.style.available)"
   ]
  },
  {
   "cell_type": "code",
   "execution_count": 84,
   "id": "2c543d48",
   "metadata": {},
   "outputs": [
    {
     "data": {
      "text/plain": [
       "<AxesSubplot: title={'center': 'Category distribution'}>"
      ]
     },
     "execution_count": 84,
     "metadata": {},
     "output_type": "execute_result"
    },
    {
     "data": {
      "image/png": "[encoded data removed]",
      "text/plain": [
       "<Figure size 800x300 with 1 Axes>"
      ]
     },
     "metadata": {},
     "output_type": "display_data"
    }
   ],
   "source": [
    "X.category_name.value_counts().plot(kind = 'bar',\n",
    "                                    title = 'Category distribution',\n",
    "                                    ylim = [0, max(X.category_name.value_counts()) * 1.1],        \n",
    "                                    rot = 0, fontsize = 11, figsize = (8,3))"
   ]
  },
  {
   "cell_type": "markdown",
   "id": "3c5a79ed",
   "metadata": {},
   "source": [
    "切著示範如何將text當中的字切成一個一個unit"
   ]
  },
  {
   "cell_type": "code",
   "execution_count": 86,
   "id": "3f7c3e56",
   "metadata": {},
   "outputs": [],
   "source": [
    "X['unigrams'] = X['text'].apply(lambda x: tokenize_text(x))"
   ]
  },
  {
   "cell_type": "code",
   "execution_count": 92,
   "id": "a8e4e7c8",
   "metadata": {},
   "outputs": [
    {
     "data": {
      "text/html": [
       "<div>\n",
       "<style scoped>\n",
       "    .dataframe tbody tr th:only-of-type {\n",
       "        vertical-align: middle;\n",
       "    }\n",
       "\n",
       "    .dataframe tbody tr th {\n",
       "        vertical-align: top;\n",
       "    }\n",
       "\n",
       "    .dataframe thead th {\n",
       "        text-align: right;\n",
       "    }\n",
       "</style>\n",
       "<table border=\"1\" class=\"dataframe\">\n",
       "  <thead>\n",
       "    <tr style=\"text-align: right;\">\n",
       "      <th></th>\n",
       "      <th>unigrams</th>\n",
       "    </tr>\n",
       "  </thead>\n",
       "  <tbody>\n",
       "    <tr>\n",
       "      <th>0</th>\n",
       "      <td>[From, :, sd345, @, city.ac.uk, (, Michael, Co...</td>\n",
       "    </tr>\n",
       "  </tbody>\n",
       "</table>\n",
       "</div>"
      ],
      "text/plain": [
       "                                            unigrams\n",
       "0  [From, :, sd345, @, city.ac.uk, (, Michael, Co..."
      ]
     },
     "execution_count": 92,
     "metadata": {},
     "output_type": "execute_result"
    }
   ],
   "source": [
    "X[:1][['unigrams']]\n",
    "# X.unigrams[:1]"
   ]
  },
  {
   "cell_type": "markdown",
   "id": "f37bc6f0",
   "metadata": {},
   "source": [
    "我們可以統計unit出現的次數，並做成表格"
   ]
  },
  {
   "cell_type": "code",
   "execution_count": 100,
   "metadata": {},
   "outputs": [
    {
     "name": "stdout",
     "output_type": "stream",
     "text": [
      "(2257, 35788)\n"
     ]
    }
   ],
   "source": [
    "from sklearn.feature_extraction.text import CountVectorizer\n",
    "\n",
    "count_vect = CountVectorizer()\n",
    "X_counts = count_vect.fit_transform(X.text) #learn the vocabulary and return document-term matrix\n",
    "\n",
    "print(X_counts.shape)\n",
    "# output should be(2257,35788)\n",
    "# 表示總共有2257筆資料\n",
    "# 而在這2257筆資料當中，總共有35788個token"
   ]
  },
  {
   "cell_type": "code",
   "execution_count": null,
   "id": "a4d93cc4",
   "metadata": {},
   "outputs": [],
   "source": [
    "# 把表格的前5筆資料當中的前100個token 拉出來做成array\n",
    "X_counts[0:5, 0:100].toarray()"
   ]
  },
  {
   "cell_type": "code",
   "execution_count": 102,
   "id": "fe7d633e",
   "metadata": {},
   "outputs": [
    {
     "data": {
      "text/plain": [
       "array(['00', '000', '0000', ..., 'zzz', 'ªl', 'íålittin'], dtype=object)"
      ]
     },
     "execution_count": 102,
     "metadata": {},
     "output_type": "execute_result"
    }
   ],
   "source": [
    "# 我們可以透過這個來取出特定index的token\n",
    "count_vect.get_feature_names_out()[0:35789]"
   ]
  },
  {
   "cell_type": "markdown",
   "id": "c4d03e6d",
   "metadata": {},
   "source": [
    "接著我們可以將這個轉成圖表，讓我們確認"
   ]
  },
  {
   "cell_type": "code",
   "execution_count": 113,
   "id": "c26a267b",
   "metadata": {},
   "outputs": [],
   "source": [
    "# first twenty features only\n",
    "plot_x = [\"term_\"+str(i) for i in count_vect.get_feature_names_out()[0:20]]\n",
    "# obtain document index\n",
    "plot_y = [\"doc_\"+ str(i) for i in list(X.index)[0:20]]\n",
    "\n",
    "# 前20個資料的前20個token\n",
    "plot_z = X_counts[0:20, 0:20].toarray()\n",
    "plot_z"
   ]
  },
  {
   "cell_type": "markdown",
   "id": "cc7bec03",
   "metadata": {},
   "source": [
    "畫出heatmap"
   ]
  },
  {
   "cell_type": "code",
   "execution_count": null,
   "id": "7b53a9ad",
   "metadata": {},
   "outputs": [],
   "source": [
    "import seaborn as sns\n",
    "import matplotlib.pyplot as plt\n",
    "%matplotlib inline\n",
    "\n",
    "df_todraw = pd.DataFrame(plot_z, columns = plot_x, index = plot_y)\n",
    "plt.subplots(figsize=(9, 7))\n",
    "ax = sns.heatmap(df_todraw,cmap=\"PuRd\",vmin=0, vmax=1, annot=True)"
   ]
  },
  {
   "cell_type": "markdown",
   "id": "bd10cdde",
   "metadata": {},
   "source": [
    "接著我們統計對於所有document(2257筆) 單一token的出現頻率"
   ]
  },
  {
   "cell_type": "code",
   "execution_count": null,
   "id": "f86af59c",
   "metadata": {},
   "outputs": [],
   "source": [
    "# note this takes time to compute. You may want to reduce the amount of terms you want to compute frequencies for\n",
    "term_frequencies = []\n",
    "for j in range(0,X_counts.shape[1]):\n",
    "    term_frequencies.append(sum(X_counts[:,j].toarray()))\n",
    "term_frequencies = np.asarray(X_counts.sum(axis=0))[0]\n",
    "\n",
    "# 代表第一個token出現的頻率\n",
    "term_frequencies[0] "
   ]
  },
  {
   "cell_type": "code",
   "execution_count": null,
   "id": "0bfe2ac0",
   "metadata": {},
   "outputs": [],
   "source": [
    "plt.subplots(figsize=(100, 10))\n",
    "g = sns.barplot(x=count_vect.get_feature_names_out()[:300], \n",
    "            y=term_frequencies[:300])\n",
    "g.set_xticklabels(count_vect.get_feature_names_out()[:300], rotation = 90);"
   ]
  },
  {
   "cell_type": "markdown",
   "id": "739fb664",
   "metadata": {},
   "source": [
    "因為字詞頻率出現的差異太大，可以用log來表示，比較好看一點"
   ]
  },
  {
   "cell_type": "code",
   "execution_count": null,
   "id": "1e5fdee1",
   "metadata": {},
   "outputs": [],
   "source": [
    "import math\n",
    "term_frequencies_log = [math.log(i) for i in term_frequencies]"
   ]
  },
  {
   "cell_type": "code",
   "execution_count": null,
   "id": "5d856758",
   "metadata": {},
   "outputs": [],
   "source": [
    "plt.subplots(figsize=(100, 10))\n",
    "g = sns.barplot(x=count_vect.get_feature_names_out()[:300],\n",
    "                y=term_frequencies_log[:300])\n",
    "g.set_xticklabels(count_vect.get_feature_names_out()[:300], rotation = 90);"
   ]
  }
 ],
 "metadata": {
  "kernelspec": {
   "display_name": "Python 3.10.7 ('data_mining': venv)",
   "language": "python",
   "name": "python3"
  },
  "language_info": {
   "codemirror_mode": {
    "name": "ipython",
    "version": 3
   },
   "file_extension": ".py",
   "mimetype": "text/x-python",
   "name": "python",
   "nbconvert_exporter": "python",
   "pygments_lexer": "ipython3",
   "version": "3.10.7"
  },
  "vscode": {
   "interpreter": {
    "hash": "6fda861fb58f6dd7c0c7d25607e494a0d9bea62cf7426b959851c32ab0349feb"
   }
  }
 },
 "nbformat": 4,
 "nbformat_minor": 5
}
